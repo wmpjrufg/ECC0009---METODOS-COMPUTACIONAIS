{
  "nbformat": 4,
  "nbformat_minor": 0,
  "metadata": {
    "colab": {
      "name": "W M Pereira Junior_Aula 002 - Exemplo 003 - Estrutura repetição.ipynb",
      "provenance": []
    },
    "kernelspec": {
      "name": "python3",
      "display_name": "Python 3"
    },
    "language_info": {
      "name": "python"
    }
  },
  "cells": [
    {
      "cell_type": "markdown",
      "metadata": {
        "id": "CnY6GwEjS_JF"
      },
      "source": [
        "**Disciplina Métodos Computacionais**  \n",
        "*Professor Dr. Wanderlei Malaquias Pereira Junior*  \n",
        "Exemplo 003 - *Estrutura repetição*"
      ]
    },
    {
      "cell_type": "markdown",
      "metadata": {
        "id": "WUO43Jq3eoG-"
      },
      "source": [
        "Verificação do imposto do usuário"
      ]
    },
    {
      "cell_type": "code",
      "metadata": {
        "id": "9s4k5OBgTifd"
      },
      "source": [
        "for I in range(2):\n",
        "    SALARIO = float(input('Digite o seu salário: R$ '))\n",
        "    if SALARIO < 600:\n",
        "        ALIQUOTA = 0\n",
        "        TEXTO_AL = 'Isento'\n",
        "    elif SALARIO >= 600 and SALARIO < 1500:\n",
        "        ALIQUOTA = 10\n",
        "        TEXTO_AL = '10% Salário bruto'\n",
        "    elif SALARIO >= 1500:\n",
        "        ALIQUOTA = 15\n",
        "        TEXTO_AL = '15% Salário bruto'\n",
        "    # print(TEXTO_AL, ', Alíquota: ', ALIQUOTA, '%')\n",
        "    print(TEXTO_AL, '\\n', 'Alíquota: ', ALIQUOTA, '%','\\n')\n",
        "    "
      ],
      "execution_count": null,
      "outputs": []
    }
  ]
}