{
 "cells": [
  {
   "cell_type": "markdown",
   "metadata": {
    "id": "CnY6GwEjS_JF"
   },
   "source": [
    "**Disciplina Métodos Computacionais**  \n",
    "*Professor Dr. Wanderlei Malaquias Pereira Junior*  \n",
    "Exemplo 002 - *Expressões e operadores*"
   ]
  },
  {
   "cell_type": "markdown",
   "metadata": {
    "id": "WUO43Jq3eoG-"
   },
   "source": [
    "Testes da tabela verdade"
   ]
  },
  {
   "cell_type": "code",
   "execution_count": null,
   "metadata": {
    "id": "9s4k5OBgTifd"
   },
   "outputs": [],
   "source": [
    "TESTE = 3 == 5;  \n",
    "print(type(TESTE))\n",
    "if TESTE:\n",
    "    print('VERDADEIRO')\n",
    "else:\n",
    "    print('FALSO')"
   ]
  },
  {
   "cell_type": "code",
   "execution_count": null,
   "metadata": {
    "id": "s8PoM2n2uQs2"
   },
   "outputs": [],
   "source": [
    "TESTE = 5 > 3;\n",
    "print(type(TESTE), TESTE)\n",
    "if TESTE:\n",
    "    print('VERDADEIRO')\n",
    "else:\n",
    "    print('FALSO')"
   ]
  },
  {
   "cell_type": "markdown",
   "metadata": {
    "id": "bgCRWl8M009S"
   },
   "source": [
    "negação do tipo ```not``` A"
   ]
  },
  {
   "cell_type": "code",
   "execution_count": null,
   "metadata": {
    "id": "9sxHTLmfvP6q"
   },
   "outputs": [],
   "source": [
    "A = 3 == 5\n",
    "not A"
   ]
  },
  {
   "cell_type": "code",
   "execution_count": null,
   "metadata": {
    "id": "jgOkf5qf0iwK"
   },
   "outputs": [],
   "source": [
    "A = 5 == 5\n",
    "not A"
   ]
  },
  {
   "cell_type": "markdown",
   "metadata": {
    "id": "Wh1pzb921gq_"
   },
   "source": [
    "Vamos usar o conceito de tabela verdade para identificar se uma viga tem ou não protensão limitada a partir de dados informados pelo usuário. Tabela 13.4 NBR 6118 (2014).\n",
    "\n",
    "Tipo      | CAA e tipo viga\n",
    "--------- | ------\n",
    "Parcial   | Pré-tração com CAA I ou Pós-tração com CAA I e II  \n",
    "Limitada  | Pré-tração com CAA II ou Pós-tração com CAA III e IV\n",
    "Completa  | Pré-tração com CAA III e IV\n",
    "\n",
    "A classe de agressividade pode ser:\n",
    "- CAA I:   Fraca       *Tag* = ```I```\n",
    "- CAA II:  Moderada    *Tag* = ```II```\n",
    "- CAA III: Forte       *Tag* = ```III```\n",
    "- CAA IV:  Muito forte *Tag* = ```IV```\n",
    "\n",
    "O tipo de viga pode ser:\n",
    "- Pré - Tração *Tag* = ```PRE```\n",
    "- Pós - Tração *Tag* = ```POS```\n",
    "\n",
    "Vamos usar ```CAA``` para descrever a classe e ```TIPO``` para descrever o tipo de protensão."
   ]
  },
  {
   "cell_type": "code",
   "execution_count": null,
   "metadata": {
    "id": "hevKtvok1WCH"
   },
   "outputs": [],
   "source": [
    "CAA = 'III'\n",
    "TIPO = 'PRE'\n",
    "CLASS1 = (CAA == 'I' and TIPO == 'PRE') or ((CAA == 'I' or CAA == 'II') and TIPO == 'POS')\n",
    "CLASS2 = (CAA == 'II' and TIPO == 'PRE') or ((CAA == 'III' or CAA == 'IV') and TIPO == 'POS')\n",
    "CLASS3 = ((CAA == 'III' or CAA == 'IV') and TIPO == 'PRE')\n",
    "print('Protensão Parcial: ', CLASS1)\n",
    "print('Protensão Limitada: ', CLASS2)\n",
    "print('Protensão Completa: ', CLASS3)"
   ]
  }
 ],
 "metadata": {
  "colab": {
   "collapsed_sections": [],
   "name": "W M Pereira Junior_Aula 004 - Exemplo 001 - Expressões e operadores.ipynb",
   "provenance": []
  },
  "kernelspec": {
   "display_name": "Python 3",
   "language": "python",
   "name": "python3"
  },
  "language_info": {
   "codemirror_mode": {
    "name": "ipython",
    "version": 3
   },
   "file_extension": ".py",
   "mimetype": "text/x-python",
   "name": "python",
   "nbconvert_exporter": "python",
   "pygments_lexer": "ipython3",
   "version": "3.8.3"
  }
 },
 "nbformat": 4,
 "nbformat_minor": 1
}
