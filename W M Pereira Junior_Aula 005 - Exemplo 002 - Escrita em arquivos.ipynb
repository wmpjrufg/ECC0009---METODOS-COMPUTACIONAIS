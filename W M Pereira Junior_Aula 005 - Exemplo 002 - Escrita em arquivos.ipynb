{
  "nbformat": 4,
  "nbformat_minor": 0,
  "metadata": {
    "colab": {
      "name": "W M Pereira Junior_Aula 005 - Exemplo 002- Escrita em arquivos.ipynb",
      "provenance": [],
      "collapsed_sections": []
    },
    "kernelspec": {
      "name": "python3",
      "display_name": "Python 3"
    },
    "language_info": {
      "name": "python"
    }
  },
  "cells": [
    {
      "cell_type": "markdown",
      "metadata": {
        "id": "CnY6GwEjS_JF"
      },
      "source": [
        "**Disciplina Métodos Computacionais**  \n",
        "*Professor Dr. Wanderlei Malaquias Pereira Junior*  \n",
        "Exemplo 002 - *Escrita em arquivos*"
      ]
    },
    {
      "cell_type": "markdown",
      "metadata": {
        "id": "WUO43Jq3eoG-"
      },
      "source": [
        "Inserindo a lista de contatos no sistema:\n",
        "- Clique na pasta 📁. Menu do seu lado esquerdo no ambiente Google colab;\n",
        "- Arraste o arquivo extensão ```.txt``` para dentro do ambiente.\n"
      ]
    },
    {
      "cell_type": "code",
      "metadata": {
        "id": "9s4k5OBgTifd"
      },
      "source": [
        "ARQUIVO = open('NOVO.txt', 'w')"
      ],
      "execution_count": 38,
      "outputs": []
    },
    {
      "cell_type": "markdown",
      "metadata": {
        "id": "qqeCDpa4MdXP"
      },
      "source": [
        "Usando o método ```.write()``` para fazer algumas escritas.\n"
      ]
    },
    {
      "cell_type": "code",
      "metadata": {
        "id": "s8PoM2n2uQs2"
      },
      "source": [
        "ARQUIVO.write('Aula de métodos computacionais do PPGEC \\n Pulei uma linha')\n",
        "ARQUIVO.write('Será que pula uma linha?')\n",
        "ARQUIVO.close()"
      ],
      "execution_count": 39,
      "outputs": []
    },
    {
      "cell_type": "markdown",
      "metadata": {
        "id": "QvxuPIAhni8-"
      },
      "source": [
        "Agora vamos retomar este arquivo e escrever nele informações pulando algumas linhas."
      ]
    },
    {
      "cell_type": "code",
      "metadata": {
        "id": "iGrzblY5n6pP"
      },
      "source": [
        "TEXTO = str(input());\n",
        "ARQUIVO = open('NOVO.txt', 'a')"
      ],
      "execution_count": null,
      "outputs": []
    },
    {
      "cell_type": "code",
      "metadata": {
        "id": "obK5KMWCoNiD"
      },
      "source": [
        "ARQUIVO.write('\\n' + '\\n '+ TEXTO)\n",
        "ARQUIVO.close()"
      ],
      "execution_count": 41,
      "outputs": []
    },
    {
      "cell_type": "markdown",
      "metadata": {
        "id": "ELzTBBy1p-7J"
      },
      "source": [
        "Vamos utilizar o método ```.format()``` para escrever um conjunto de dados padronizados em um arquivo de saída. \n",
        "\n",
        "Vamos escrever as coordenadas de um triângulo em uma saída."
      ]
    },
    {
      "cell_type": "code",
      "metadata": {
        "id": "wa4n0amtqjTP"
      },
      "source": [
        "import numpy as np\n",
        "A = np.array([[-1, 1]])\n",
        "B = np.array([[4, 0]])\n",
        "C = np.array([[-3, 3]])\n",
        "TRIANGULO = np.vstack((A, B, C))\n",
        "print(TRIANGULO)"
      ],
      "execution_count": null,
      "outputs": []
    },
    {
      "cell_type": "code",
      "metadata": {
        "id": "okiHXByIr1b6"
      },
      "source": [
        "COORD = open('COORDENADAS.txt', 'w')"
      ],
      "execution_count": 57,
      "outputs": []
    },
    {
      "cell_type": "code",
      "metadata": {
        "id": "dg7vUBXrrgdE"
      },
      "source": [
        "TAM = TRIANGULO.shape\n",
        "for I in range(TAM[0]):\n",
        "    for J in range(TAM[1]):\n",
        "        #COORD.write(str(TRIANGULO[I, J]))\n",
        "        COORD.write(str(TRIANGULO[I, J]) + ' ')\n",
        "    COORD.write('\\n')\n",
        "COORD.close()"
      ],
      "execution_count": 58,
      "outputs": []
    }
  ]
}