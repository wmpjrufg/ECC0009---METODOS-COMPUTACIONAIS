{
  "nbformat": 4,
  "nbformat_minor": 0,
  "metadata": {
    "colab": {
      "name": "W M Pereira Junior_Exemplo 002 - Estrutura seleção.ipynb",
      "provenance": []
    },
    "kernelspec": {
      "name": "python3",
      "display_name": "Python 3"
    },
    "language_info": {
      "name": "python"
    }
  },
  "cells": [
    {
      "cell_type": "markdown",
      "metadata": {
        "id": "CnY6GwEjS_JF"
      },
      "source": [
        "**Disciplina Métodos Computacionais**  \n",
        "*Professor Dr. Wanderlei Malaquias Pereira Junior*  \n",
        "Exemplo 002 - *Estrutura seleção*"
      ]
    },
    {
      "cell_type": "markdown",
      "metadata": {
        "id": "jcuFwbKHTMKV"
      },
      "source": [
        "Digite a idade do usuário"
      ]
    },
    {
      "cell_type": "code",
      "metadata": {
        "id": "ppbgo-QNS646"
      },
      "source": [
        "IDADE = int(input())"
      ],
      "execution_count": null,
      "outputs": []
    },
    {
      "cell_type": "markdown",
      "metadata": {
        "id": "WUO43Jq3eoG-"
      },
      "source": [
        "Verificando a regra de idade para o atleta"
      ]
    },
    {
      "cell_type": "code",
      "metadata": {
        "id": "9s4k5OBgTifd"
      },
      "source": [
        "if IDADE < 5:\n",
        "    print(\"Classificação: Não pode ser atelta\")\n",
        "elif IDADE >= 5 and IDADE < 14: \n",
        "    print(\"Classificação: Juvenil A\")\n",
        "elif IDADE >= 14 and IDADE < 18: \n",
        "    print(\"Classificação: Juvenil B\")\n",
        "elif IDADE >= 18: \n",
        "    print(\"Classificação: Adulto\")"
      ],
      "execution_count": null,
      "outputs": []
    }
  ]
}