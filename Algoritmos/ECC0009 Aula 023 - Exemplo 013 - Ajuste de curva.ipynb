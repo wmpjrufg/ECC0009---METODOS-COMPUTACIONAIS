{
  "nbformat": 4,
  "nbformat_minor": 0,
  "metadata": {
    "colab": {
      "name": "W M Pereira Junior_Aula 023 - Exemplo 013 - Ajuste de curva.ipynb",
      "provenance": []
    },
    "kernelspec": {
      "name": "python3",
      "display_name": "Python 3"
    },
    "language_info": {
      "name": "python"
    }
  },
  "cells": [
    {
      "cell_type": "markdown",
      "metadata": {
        "id": "CnY6GwEjS_JF"
      },
      "source": [
        "**Disciplina Métodos Computacionais**  \n",
        "*Professor Dr. Wanderlei Malaquias Pereira Junior*  \n",
        "Exemplo 013 - *Ajuste de curvas*"
      ]
    },
    {
      "cell_type": "code",
      "metadata": {
        "id": "9s4k5OBgTifd",
        "colab": {
          "base_uri": "https://localhost:8080/"
        },
        "outputId": "269442f2-9f19-4fa1-94bb-e2949ef077c1"
      },
      "source": [
        "!pip install permetrics\n",
        "import numpy as np\n",
        "import matplotlib.pyplot as plt"
      ],
      "execution_count": 5,
      "outputs": [
        {
          "output_type": "stream",
          "name": "stdout",
          "text": [
            "Requirement already satisfied: permetrics in /usr/local/lib/python3.7/dist-packages (1.1.3)\n",
            "Requirement already satisfied: numpy in /usr/local/lib/python3.7/dist-packages (from permetrics) (1.19.5)\n"
          ]
        }
      ]
    },
    {
      "cell_type": "markdown",
      "metadata": {
        "id": "0XkQxufi0Zm9"
      },
      "source": [
        "Declarando os pontos do sistema"
      ]
    },
    {
      "cell_type": "code",
      "metadata": {
        "id": "c4cqgEFW0ZUl"
      },
      "source": [
        "X0 = [0, 1] \n",
        "Y0 = [1, 6]\n",
        "X1 = [2, 3] \n",
        "Y1 = [5, -8]\n",
        "X2 = [0, 2, 3] \n",
        "Y2 = [1, 5, -8]\n",
        "X3 = [0, 1, 2, 3] \n",
        "Y3 = [1, 6, 5, -8]"
      ],
      "execution_count": 6,
      "outputs": []
    },
    {
      "cell_type": "markdown",
      "metadata": {
        "id": "WUO43Jq3eoG-"
      },
      "source": [
        "Plotando a resposta experimental ou observada"
      ]
    },
    {
      "cell_type": "code",
      "metadata": {
        "colab": {
          "base_uri": "https://localhost:8080/",
          "height": 302
        },
        "id": "0eiw9gHen-F9",
        "outputId": "e2d08af6-06a3-47f0-ad6e-af8615997725"
      },
      "source": [
        "plt.plot(X3, Y3, '.', color = '#A52A2A', label = 'experimental')\n",
        "plt.xlabel(\"y\", size = 16,)\n",
        "plt.ylabel(\"x\", size = 16)\n",
        "plt.legend()"
      ],
      "execution_count": 7,
      "outputs": [
        {
          "output_type": "execute_result",
          "data": {
            "text/plain": [
              "<matplotlib.legend.Legend at 0x7f095d6b9290>"
            ]
          },
          "metadata": {},
          "execution_count": 7
        },
        {
          "output_type": "display_data",
          "data": {
            "image/png": "[encoded data removed]",
            "text/plain": [
              "<Figure size 432x288 with 1 Axes>"
            ]
          },
          "metadata": {
            "needs_background": "light"
          }
        }
      ]
    },
    {
      "cell_type": "markdown",
      "metadata": {
        "id": "HpRiKKXd5E3G"
      },
      "source": [
        "Os modelos de cores podem ser vistos no [link](https://celke.com.br/artigo/tabela-de-cores-html-nome-hexadecimal-rgb)"
      ]
    },
    {
      "cell_type": "code",
      "metadata": {
        "colab": {
          "base_uri": "https://localhost:8080/"
        },
        "id": "MytLiH5u5EP3",
        "outputId": "4f6fd7e2-aa78-435b-b97c-356dd147fca4"
      },
      "source": [
        "AA0 = np.vander(X0, increasing=True)\n",
        "print('Matrizx de Vandermonde\\n', AA0)\n",
        "AA1 = np.vander(X1, increasing=True)\n",
        "print('Matrizx de Vandermonde\\n', AA1)\n",
        "AA2 = np.vander(X2, increasing=True)\n",
        "print('Matrizx de Vandermonde\\n', AA2)\n",
        "AA3 = np.vander(X3, increasing=True)\n",
        "print('Matrizx de Vandermonde\\n', AA3)"
      ],
      "execution_count": 8,
      "outputs": [
        {
          "output_type": "stream",
          "name": "stdout",
          "text": [
            "Matrizx de Vandermonde\n",
            " [[1 0]\n",
            " [1 1]]\n",
            "Matrizx de Vandermonde\n",
            " [[1 2]\n",
            " [1 3]]\n",
            "Matrizx de Vandermonde\n",
            " [[1 0 0]\n",
            " [1 2 4]\n",
            " [1 3 9]]\n",
            "Matrizx de Vandermonde\n",
            " [[ 1  0  0  0]\n",
            " [ 1  1  1  1]\n",
            " [ 1  2  4  8]\n",
            " [ 1  3  9 27]]\n"
          ]
        }
      ]
    },
    {
      "cell_type": "code",
      "metadata": {
        "colab": {
          "base_uri": "https://localhost:8080/"
        },
        "id": "RWaZ3khaBngt",
        "outputId": "73ffe37e-3f79-4333-edc3-37e0facf01f6"
      },
      "source": [
        "A0 = np.linalg.solve(AA0, Y0)\n",
        "A0 = A0.tolist()\n",
        "A1 = np.linalg.solve(AA1, Y1)\n",
        "A1 = A1.tolist()\n",
        "A2 = np.linalg.solve(AA2, Y2)\n",
        "A2 = A2.tolist()\n",
        "A3 = np.linalg.solve(AA3, Y3)\n",
        "A3 = A3.tolist()\n",
        "print(A3)"
      ],
      "execution_count": 9,
      "outputs": [
        {
          "output_type": "stream",
          "name": "stdout",
          "text": [
            "[1.0, 6.0, -0.0, -1.0]\n"
          ]
        }
      ]
    },
    {
      "cell_type": "code",
      "metadata": {
        "id": "ZHfzCOg0HMQl"
      },
      "source": [
        "Y_NUM0 = []\n",
        "A0.reverse()\n",
        "N = 20\n",
        "X_NUM = np.linspace(0., 3., N)\n",
        "for I_CONT in range(N):\n",
        "    VALUE = np.polyval(A0, X_NUM[I_CONT])\n",
        "    Y_NUM0.append(VALUE)"
      ],
      "execution_count": 10,
      "outputs": []
    },
    {
      "cell_type": "code",
      "metadata": {
        "id": "_UqcNXwiHMYp"
      },
      "source": [
        "Y_NUM1 = []\n",
        "A1.reverse()\n",
        "N = 20\n",
        "for I_CONT in range(N):\n",
        "    VALUE = np.polyval(A1, X_NUM[I_CONT])\n",
        "    Y_NUM1.append(VALUE)"
      ],
      "execution_count": 11,
      "outputs": []
    },
    {
      "cell_type": "code",
      "metadata": {
        "id": "LjIuGHOCHMnM"
      },
      "source": [
        "Y_NUM2 = []\n",
        "A2.reverse()\n",
        "N = 20\n",
        "for I_CONT in range(N):\n",
        "    VALUE = np.polyval(A2, X_NUM[I_CONT])\n",
        "    Y_NUM2.append(VALUE)"
      ],
      "execution_count": 12,
      "outputs": []
    },
    {
      "cell_type": "code",
      "metadata": {
        "id": "5cmnns8IDKLN"
      },
      "source": [
        "Y_NUM3 = []\n",
        "A3.reverse()\n",
        "N = 20\n",
        "for I_CONT in range(N):\n",
        "    VALUE = np.polyval(A3, X_NUM[I_CONT])\n",
        "    Y_NUM3.append(VALUE)"
      ],
      "execution_count": 13,
      "outputs": []
    },
    {
      "cell_type": "code",
      "metadata": {
        "colab": {
          "base_uri": "https://localhost:8080/",
          "height": 302
        },
        "id": "rvFc88bQFdI3",
        "outputId": "87e006fd-9a2a-4095-f3d0-b5fc6ecc85bc"
      },
      "source": [
        "plt.plot(X3, Y3, '.', color = '#A52A2A', label = 'experimental', markersize = 30)\n",
        "plt.plot(X_NUM, Y_NUM0, 'go', color = '#DAA520', label = 'numérico pol grau 1', linestyle='dashed')\n",
        "plt.plot(X_NUM, Y_NUM1, 'go', color = '#8B008B', label = 'numérico pol grau 1', linestyle='dashed')\n",
        "plt.plot(X_NUM, Y_NUM2, 'go', color = '#FFFF00', label = 'numérico pol grau 2', linestyle='dashed')\n",
        "plt.plot(X_NUM, Y_NUM3, 'go', color = '#00BFFF', label = 'numérico pol grau 3', linestyle='dashed')\n",
        "plt.xlabel(\"y\", size = 16,)\n",
        "plt.ylabel(\"x\", size = 16)\n",
        "plt.legend()"
      ],
      "execution_count": 14,
      "outputs": [
        {
          "output_type": "execute_result",
          "data": {
            "text/plain": [
              "<matplotlib.legend.Legend at 0x7f095ca97c90>"
            ]
          },
          "metadata": {},
          "execution_count": 14
        },
        {
          "output_type": "display_data",
          "data": {
            "image/png": "[encoded data removed]",
            "text/plain": [
              "<Figure size 432x288 with 1 Axes>"
            ]
          },
          "metadata": {
            "needs_background": "light"
          }
        }
      ]
    },
    {
      "cell_type": "markdown",
      "metadata": {
        "id": "2i1x3VTb6TYN"
      },
      "source": [
        "[Acesso a biblioteca de métricas](https://github.com/thieu1995/permetrics/blob/master/README.md)"
      ]
    },
    {
      "cell_type": "code",
      "metadata": {
        "colab": {
          "base_uri": "https://localhost:8080/"
        },
        "id": "ABWYbXNO2mQX",
        "outputId": "2294584b-3287-40b5-d971-e7de6d4ece03"
      },
      "source": [
        "from permetrics.regression import Metrics\n",
        "\n",
        "Y_NUM = []\n",
        "N = 4\n",
        "for I_CONT in range(N):\n",
        "    VALUE = np.polyval(A2, X3[I_CONT])\n",
        "    Y_NUM.append(VALUE)\n",
        "print(Y_NUM)"
      ],
      "execution_count": 16,
      "outputs": [
        {
          "output_type": "stream",
          "name": "stdout",
          "text": [
            "[1.0, 8.0, 5.0, -8.0]\n"
          ]
        }
      ]
    },
    {
      "cell_type": "code",
      "metadata": {
        "colab": {
          "base_uri": "https://localhost:8080/"
        },
        "id": "g755RGz73mrV",
        "outputId": "2edc3ca5-962e-4e90-a8b9-a6a28179d898"
      },
      "source": [
        "y_true = np.array([1, 6, 5, -8])\n",
        "y_pred = np.array([1, 8, 5, -8])\n",
        "obj1 = Metrics(y_true, y_pred)\n",
        "print(obj1.coefficient_of_determination(clean=True, decimal=5))"
      ],
      "execution_count": 19,
      "outputs": [
        {
          "output_type": "stream",
          "name": "stdout",
          "text": [
            "0.96721\n"
          ]
        }
      ]
    }
  ]
}