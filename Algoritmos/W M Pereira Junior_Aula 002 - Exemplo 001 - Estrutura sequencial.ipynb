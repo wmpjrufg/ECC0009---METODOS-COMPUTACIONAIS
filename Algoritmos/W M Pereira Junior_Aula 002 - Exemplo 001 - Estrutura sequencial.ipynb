{
  "nbformat": 4,
  "nbformat_minor": 0,
  "metadata": {
    "colab": {
      "name": "W M Pereira Junior_Exemplo 001 - Estrutura sequencial.ipynb",
      "provenance": []
    },
    "kernelspec": {
      "name": "python3",
      "display_name": "Python 3"
    },
    "language_info": {
      "name": "python"
    }
  },
  "cells": [
    {
      "cell_type": "markdown",
      "metadata": {
        "id": "CnY6GwEjS_JF"
      },
      "source": [
        "**Disciplina Métodos Computacionais**  \n",
        "*Professor Dr. Wanderlei Malaquias Pereira Junior*  \n",
        "Exemplo 001 - *Estrutura sequencial*"
      ]
    },
    {
      "cell_type": "markdown",
      "metadata": {
        "id": "jcuFwbKHTMKV"
      },
      "source": [
        "Declaração das notas"
      ]
    },
    {
      "cell_type": "code",
      "metadata": {
        "id": "ppbgo-QNS646"
      },
      "source": [
        "N0 = 1.0; N1 = 3.0; N2 = 4.5; N3 = 10.0; N4 = 9.50\n",
        "N = 5"
      ],
      "execution_count": null,
      "outputs": []
    },
    {
      "cell_type": "markdown",
      "metadata": {
        "id": "WUO43Jq3eoG-"
      },
      "source": [
        "Cálculo da média"
      ]
    },
    {
      "cell_type": "code",
      "metadata": {
        "colab": {
          "base_uri": "https://localhost:8080/"
        },
        "id": "9s4k5OBgTifd",
        "outputId": "35b7ce66-43e9-42ba-df8a-b9f0f998db25"
      },
      "source": [
        "MEDIA = (N0 + N1 + N2 + N3 + N4) /N\n",
        "MEDIA"
      ],
      "execution_count": null,
      "outputs": [
        {
          "output_type": "execute_result",
          "data": {
            "text/plain": [
              "5.6"
            ]
          },
          "metadata": {
            "tags": []
          },
          "execution_count": 5
        }
      ]
    }
  ]
}