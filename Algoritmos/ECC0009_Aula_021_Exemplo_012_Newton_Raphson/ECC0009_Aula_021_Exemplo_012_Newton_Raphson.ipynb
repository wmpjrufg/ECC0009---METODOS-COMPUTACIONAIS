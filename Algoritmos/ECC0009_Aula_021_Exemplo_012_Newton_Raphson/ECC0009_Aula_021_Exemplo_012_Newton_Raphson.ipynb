{
  "nbformat": 4,
  "nbformat_minor": 0,
  "metadata": {
    "colab": {
      "name": "ECC0009_Aula_021_Exemplo_012_Newton Raphson",
      "provenance": []
    },
    "kernelspec": {
      "name": "python3",
      "display_name": "Python 3"
    },
    "language_info": {
      "name": "python"
    }
  },
  "cells": [
    {
      "cell_type": "markdown",
      "metadata": {
        "id": "NjHj7jb_jGbm"
      },
      "source": [
        "**Disciplina Métodos Computacionais**  \n",
        "*Professor Dr. Wanderlei Malaquias Pereira Junior*  \n",
        "Exemplo 021 - *Resolução de sistemas não lineares: Newton - Raphson*"
      ]
    },
    {
      "cell_type": "markdown",
      "metadata": {
        "id": "seIyjsSbjJPe"
      },
      "source": [
        "Determinando as derivadas com auxílio de ferramentas computacionais"
      ]
    },
    {
      "cell_type": "code",
      "metadata": {
        "id": "SN5Df03IjHpO"
      },
      "source": [
        "import sympy as sy\n",
        "import numpy as np\n",
        "sy.init_printing(pretty_print = False)"
      ],
      "execution_count": 12,
      "outputs": []
    },
    {
      "cell_type": "markdown",
      "metadata": {
        "id": "knCb5UhckQYt"
      },
      "source": [
        "Vamos aplicar os conceitos do Método de Newton-Raphson nas equações abaixo. Primeiramente deveremos determinar a primeira derivada das funções:\n",
        "\n",
        "$$\\begin{aligned}\n",
        "    x_1^{2}+x_1.x_2 &= 10\\\\\n",
        "    x_2+3.x_1.x_2^{2} &= 57\n",
        "\\end{aligned}$$"
      ]
    },
    {
      "cell_type": "code",
      "metadata": {
        "id": "rpcFbH1GjbJ0"
      },
      "source": [
        "# Declaração do símbolo\n",
        "X_0 = sy.Symbol('X_0')\n",
        "X_1 = sy.Symbol('X_1')\n",
        "# Declaração das funções\n",
        "F_0 = X_0 ** 2 + X_0 * X_1 - 10\n",
        "F_1 = X_1 + 3 * X_0 * X_1 ** 2 - 57"
      ],
      "execution_count": 15,
      "outputs": []
    },
    {
      "cell_type": "markdown",
      "metadata": {
        "id": "4tdNraq_mAF7"
      },
      "source": [
        "Derivandos das funções $f(x_1, x_2)$ e escrevendo a matriz jacobiana da função.\n",
        "\n",
        "$$J =\n",
        "\\begin{bmatrix}\n",
        "  \\frac{\\partial f_1}{\\partial x_1} & \n",
        "    \\frac{\\partial f_1}{\\partial x_2} & \n",
        "    \\frac{\\partial f_1}{\\partial x_3} \\\\[1ex] % <-- 1ex more space between rows of matrix\n",
        "  \\frac{\\partial f_2}{\\partial x_1} & \n",
        "    \\frac{\\partial f_2}{\\partial x_2} & \n",
        "    \\frac{\\partial f_2}{\\partial x_3} \\\\[1ex]\n",
        "  \\frac{\\partial f_3}{\\partial x_1} & \n",
        "    \\frac{\\partial f_3}{\\partial x_2} & \n",
        "    \\frac{\\partial f_3}{\\partial x_3}\n",
        "\\end{bmatrix}$$"
      ]
    },
    {
      "cell_type": "code",
      "metadata": {
        "id": "qq5CtZyokzu_"
      },
      "source": [
        "sy.diff(F_0, X_0) "
      ],
      "execution_count": null,
      "outputs": []
    },
    {
      "cell_type": "code",
      "metadata": {
        "id": "BMWPzGAvmHwx"
      },
      "source": [
        "sy.diff(F_0, X_1) "
      ],
      "execution_count": null,
      "outputs": []
    },
    {
      "cell_type": "code",
      "metadata": {
        "id": "GtHqFhYpmVOL"
      },
      "source": [
        "sy.diff(F_1, X_0) "
      ],
      "execution_count": null,
      "outputs": []
    },
    {
      "cell_type": "code",
      "metadata": {
        "id": "CFBdKSJfmgP5"
      },
      "source": [
        "sy.diff(F_1, X_1) "
      ],
      "execution_count": null,
      "outputs": []
    },
    {
      "cell_type": "markdown",
      "metadata": {
        "id": "is_FNYtKmjun"
      },
      "source": [
        "Montagem da matriz Jacobiana e matriz da função"
      ]
    },
    {
      "cell_type": "code",
      "metadata": {
        "id": "dQl-d-Ml152c"
      },
      "source": [
        "# FUNÇÃO PARA DECLARAÇÃO DA EQUAÇÃO QUE DESEJA-SE ENCONTRAR A RAÍZ\n",
        "def F_E_JACOBIANA(X):\n",
        "    X_0 = X[0]\n",
        "    X_1 = X[1]\n",
        "    J = np.array([[2*X_0 + X_1, X_0], [3*X_1**2, 6*X_0*X_1 + 1]])\n",
        "    F = np.array([[X_0**2+X_0*X_1-10], [X_1 + 3*X_0*X_1**2 - 57]])\n",
        "    return J, F \n",
        "\n",
        "# FUNÇÃO DE DETERMINAÇÃO DO ERRO\n",
        "def ERRO_NORMA_MAX(X, X_NEW, D):\n",
        "    AUX_0 = [0] * D\n",
        "    AUX_1 = [0] * D\n",
        "    AUX_2 = [0] * D\n",
        "    for I_CONT in range(D):\n",
        "        AUX_0[I_CONT] = abs(X_NEW[I_CONT])\n",
        "        AUX_1[I_CONT] = abs(X[I_CONT])\n",
        "        AUX_2[I_CONT] = AUX_0[I_CONT] - AUX_1[I_CONT]\n",
        "    ERRO = max(AUX_2) / max(AUX_0)\n",
        "    return ERRO"
      ],
      "execution_count": 80,
      "outputs": []
    },
    {
      "cell_type": "code",
      "metadata": {
        "id": "GVnBCtGZ2b_S"
      },
      "source": [
        "# TOLERÂNCIA DO PROCESSO ITERATIVO\n",
        "TOL = 1E-8\n",
        "# CHUTE INICIAL\n",
        "X_0 = [1.50, 3.50]"
      ],
      "execution_count": 85,
      "outputs": []
    },
    {
      "cell_type": "code",
      "metadata": {
        "id": "cjk6folN2ljf"
      },
      "source": [
        "def NEWTON_RAPHSON(FUNCOES, TOL, X_0, D):\n",
        "    ERRO = 1000\n",
        "    I = 0\n",
        "    RESULTADOS = []\n",
        "    X_NEW = [0] * D\n",
        "    X = X_0.copy()\n",
        "    while ERRO > TOL:\n",
        "            print('iteração: ', I)\n",
        "            print('x velho: ', X)\n",
        "            F_LINHAX, FX = FUNCOES(X)\n",
        "            print(np.linalg.inv(F_LINHAX))\n",
        "            AUX = np.dot(np.linalg.inv(F_LINHAX), FX)\n",
        "            S = - AUX.flatten()\n",
        "            print('S: ', S)\n",
        "            for I_CONT in range(D):\n",
        "                X_NEW[I_CONT] = X[I_CONT] + S[I_CONT]\n",
        "            print('x novo: ', X_NEW)\n",
        "            ERRO = ERRO_NORMA_MAX(X, X_NEW, D)\n",
        "            print('erro: ', ERRO)\n",
        "            I += 1\n",
        "            X = X_NEW.copy()\n",
        "    return X"
      ],
      "execution_count": 100,
      "outputs": []
    },
    {
      "cell_type": "code",
      "metadata": {
        "id": "0DkcBgA29_FT"
      },
      "source": [
        "X = NEWTON_RAPHSON(F_E_JACOBIANA, TOL, X_0, 2)"
      ],
      "execution_count": null,
      "outputs": []
    },
    {
      "cell_type": "code",
      "metadata": {
        "colab": {
          "base_uri": "https://localhost:8080/"
        },
        "id": "MDyb0RflDJG0",
        "outputId": "8895e4c9-2e65-4ca7-d972-5f78a9cd18f3"
      },
      "source": [
        "X"
      ],
      "execution_count": 97,
      "outputs": [
        {
          "output_type": "execute_result",
          "data": {
            "text/plain": [
              "[2.0, 3.0]"
            ]
          },
          "metadata": {},
          "execution_count": 97
        }
      ]
    }
  ]
}