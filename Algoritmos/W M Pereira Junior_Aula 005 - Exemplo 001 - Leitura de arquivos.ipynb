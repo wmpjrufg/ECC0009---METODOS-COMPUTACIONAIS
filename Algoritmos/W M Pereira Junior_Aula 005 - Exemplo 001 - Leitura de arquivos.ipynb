{
  "nbformat": 4,
  "nbformat_minor": 0,
  "metadata": {
    "colab": {
      "name": "W M Pereira Junior_Aula 005 - Exemplo 001 - Leitura de arquivo.ipynb",
      "provenance": [],
      "collapsed_sections": []
    },
    "kernelspec": {
      "name": "python3",
      "display_name": "Python 3"
    },
    "language_info": {
      "name": "python"
    }
  },
  "cells": [
    {
      "cell_type": "markdown",
      "metadata": {
        "id": "CnY6GwEjS_JF"
      },
      "source": [
        "**Disciplina Métodos Computacionais**  \n",
        "*Professor Dr. Wanderlei Malaquias Pereira Junior*  \n",
        "Exemplo 001 - *Leitura de arquivo*"
      ]
    },
    {
      "cell_type": "markdown",
      "metadata": {
        "id": "WUO43Jq3eoG-"
      },
      "source": [
        "Inserindo a lista de contatos no sistema:\n",
        "- Clique na pasta 📁. Menu do seu lado esquerdo no ambiente Google colab;\n",
        "- Arraste o arquivo extensão ```.txt``` para dentro do ambiente.\n"
      ]
    },
    {
      "cell_type": "code",
      "metadata": {
        "id": "9s4k5OBgTifd"
      },
      "source": [
        "ARQUIVO = open('CONTATOS.txt', 'r')\n",
        "ARQUIVO"
      ],
      "execution_count": null,
      "outputs": []
    },
    {
      "cell_type": "markdown",
      "metadata": {
        "id": "qqeCDpa4MdXP"
      },
      "source": [
        "Usando o método ```.read()```"
      ]
    },
    {
      "cell_type": "code",
      "metadata": {
        "id": "s8PoM2n2uQs2"
      },
      "source": [
        "print(ARQUIVO.read())"
      ],
      "execution_count": null,
      "outputs": []
    },
    {
      "cell_type": "markdown",
      "metadata": {
        "id": "bgCRWl8M009S"
      },
      "source": [
        "Usando o método ```readline()```"
      ]
    },
    {
      "cell_type": "code",
      "metadata": {
        "id": "9sxHTLmfvP6q"
      },
      "source": [
        "print(ARQUIVO.readline())"
      ],
      "execution_count": null,
      "outputs": []
    },
    {
      "cell_type": "markdown",
      "metadata": {
        "id": "e-pEBfzrMwYA"
      },
      "source": [
        "Manipulando o ponteiro da posição do arquivo ```'CONTATO.txt'```\n",
        "\n",
        "Método ```.seek()```*texto em itálico*"
      ]
    },
    {
      "cell_type": "code",
      "metadata": {
        "id": "jgOkf5qf0iwK"
      },
      "source": [
        "ARQUIVO.seek(0)\n",
        "print(ARQUIVO.readline())"
      ],
      "execution_count": null,
      "outputs": []
    },
    {
      "cell_type": "markdown",
      "metadata": {
        "id": "ovFfwBxlNNAK"
      },
      "source": [
        "Leitura de diversas linhas com o ```.readlines()```"
      ]
    },
    {
      "cell_type": "code",
      "metadata": {
        "id": "hevKtvok1WCH"
      },
      "source": [
        "ARQUIVO.seek(0)\n",
        "print(ARQUIVO.readlines())"
      ],
      "execution_count": null,
      "outputs": []
    },
    {
      "cell_type": "markdown",
      "metadata": {
        "id": "tXUkQeWNNqw2"
      },
      "source": [
        "Utilizando um laço de repetição para contar as linhas do arquivo"
      ]
    },
    {
      "cell_type": "code",
      "metadata": {
        "id": "VADNt4ZTNqR_"
      },
      "source": [
        "ARQUIVO.seek(0)\n",
        "CONT = 0\n",
        "for LINHAS in ARQUIVO:\n",
        "    CONT += 1\n",
        "print('Total de linhas do arquivo: ', CONT)"
      ],
      "execution_count": null,
      "outputs": []
    },
    {
      "cell_type": "markdown",
      "metadata": {
        "id": "csdRejUEPptK"
      },
      "source": [
        "Fechamento do arquivo com o método ```.close()```"
      ]
    },
    {
      "cell_type": "code",
      "metadata": {
        "id": "IF6LJl-OPuuX"
      },
      "source": [
        "ARQUIVO.close()"
      ],
      "execution_count": 15,
      "outputs": []
    }
  ]
}