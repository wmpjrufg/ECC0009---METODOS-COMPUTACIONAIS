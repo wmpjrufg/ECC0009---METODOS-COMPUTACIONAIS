{
 "cells": [
  {
   "cell_type": "markdown",
   "metadata": {
    "id": "CnY6GwEjS_JF"
   },
   "source": [
    "**Disciplina Métodos Computacionais**  \n",
    "*Professor Dr. Wanderlei Malaquias Pereira Junior*  \n",
    "Exemplo 003 - *Estrutura seleção*"
   ]
  },
  {
   "cell_type": "markdown",
   "metadata": {
    "id": "jcuFwbKHTMKV"
   },
   "source": [
    "Digite a idade do usuário"
   ]
  },
  {
   "cell_type": "code",
   "execution_count": null,
   "metadata": {
    "id": "ppbgo-QNS646"
   },
   "outputs": [],
   "source": [
    "IDADE = int(input())"
   ]
  },
  {
   "cell_type": "markdown",
   "metadata": {
    "id": "WUO43Jq3eoG-"
   },
   "source": [
    "Verificando a regra de idade para o atleta"
   ]
  },
  {
   "cell_type": "code",
   "execution_count": null,
   "metadata": {
    "id": "9s4k5OBgTifd"
   },
   "outputs": [],
   "source": [
    "if IDADE < 5:\n",
    "    print(\"Classificação: Não pode ser atelta\")\n",
    "elif IDADE >= 5 and IDADE < 14: \n",
    "    print(\"Classificação: Juvenil A\")\n",
    "elif IDADE >= 14 and IDADE < 18: \n",
    "    print(\"Classificação: Juvenil B\")\n",
    "elif IDADE >= 18: \n",
    "    print(\"Classificação: Adulto\")"
   ]
  }
 ],
 "metadata": {
  "colab": {
   "name": "W M Pereira Junior_Exemplo 002 - Estrutura seleção.ipynb",
   "provenance": []
  },
  "kernelspec": {
   "display_name": "Python 3",
   "language": "python",
   "name": "python3"
  },
  "language_info": {
   "codemirror_mode": {
    "name": "ipython",
    "version": 3
   },
   "file_extension": ".py",
   "mimetype": "text/x-python",
   "name": "python",
   "nbconvert_exporter": "python",
   "pygments_lexer": "ipython3",
   "version": "3.8.3"
  }
 },
 "nbformat": 4,
 "nbformat_minor": 1
}
