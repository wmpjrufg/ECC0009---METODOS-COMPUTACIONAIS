{
 "cells": [
  {
   "cell_type": "markdown",
   "metadata": {
    "id": "CnY6GwEjS_JF"
   },
   "source": [
    "**Disciplina Métodos Computacionais**  \n",
    "*Professor Dr. Wanderlei Malaquias Pereira Junior*  \n",
    "Exemplo 007 - *Leitura de arquivo*"
   ]
  },
  {
   "cell_type": "markdown",
   "metadata": {
    "id": "WUO43Jq3eoG-"
   },
   "source": [
    "Inserindo a lista de contatos no sistema:\n",
    "- Clique na pasta 📁. Menu do seu lado esquerdo no ambiente Google colab;\n",
    "- Arraste o arquivo extensão ```.txt``` para dentro do ambiente.\n"
   ]
  },
  {
   "cell_type": "code",
   "execution_count": null,
   "metadata": {
    "id": "9s4k5OBgTifd"
   },
   "outputs": [],
   "source": [
    "ARQUIVO = open('CONTATOS.txt', 'r')\n",
    "ARQUIVO"
   ]
  },
  {
   "cell_type": "markdown",
   "metadata": {
    "id": "qqeCDpa4MdXP"
   },
   "source": [
    "Usando o método ```.read()```"
   ]
  },
  {
   "cell_type": "code",
   "execution_count": null,
   "metadata": {
    "id": "s8PoM2n2uQs2"
   },
   "outputs": [],
   "source": [
    "print(ARQUIVO.read())"
   ]
  },
  {
   "cell_type": "markdown",
   "metadata": {
    "id": "bgCRWl8M009S"
   },
   "source": [
    "Usando o método ```readline()```"
   ]
  },
  {
   "cell_type": "code",
   "execution_count": null,
   "metadata": {
    "id": "9sxHTLmfvP6q"
   },
   "outputs": [],
   "source": [
    "print(ARQUIVO.readline())"
   ]
  },
  {
   "cell_type": "markdown",
   "metadata": {
    "id": "e-pEBfzrMwYA"
   },
   "source": [
    "Manipulando o ponteiro da posição do arquivo ```'CONTATO.txt'```\n",
    "\n",
    "Método ```.seek()```*texto em itálico*"
   ]
  },
  {
   "cell_type": "code",
   "execution_count": null,
   "metadata": {
    "id": "jgOkf5qf0iwK"
   },
   "outputs": [],
   "source": [
    "ARQUIVO.seek(0)\n",
    "print(ARQUIVO.readline())"
   ]
  },
  {
   "cell_type": "markdown",
   "metadata": {
    "id": "ovFfwBxlNNAK"
   },
   "source": [
    "Leitura de diversas linhas com o ```.readlines()```"
   ]
  },
  {
   "cell_type": "code",
   "execution_count": null,
   "metadata": {
    "id": "hevKtvok1WCH"
   },
   "outputs": [],
   "source": [
    "ARQUIVO.seek(0)\n",
    "print(ARQUIVO.readlines())"
   ]
  },
  {
   "cell_type": "markdown",
   "metadata": {
    "id": "tXUkQeWNNqw2"
   },
   "source": [
    "Utilizando um laço de repetição para contar as linhas do arquivo"
   ]
  },
  {
   "cell_type": "code",
   "execution_count": null,
   "metadata": {
    "id": "VADNt4ZTNqR_"
   },
   "outputs": [],
   "source": [
    "ARQUIVO.seek(0)\n",
    "CONT = 0\n",
    "for LINHAS in ARQUIVO:\n",
    "    CONT += 1\n",
    "print('Total de linhas do arquivo: ', CONT)"
   ]
  },
  {
   "cell_type": "markdown",
   "metadata": {
    "id": "csdRejUEPptK"
   },
   "source": [
    "Fechamento do arquivo com o método ```.close()```"
   ]
  },
  {
   "cell_type": "code",
   "execution_count": null,
   "metadata": {
    "id": "IF6LJl-OPuuX"
   },
   "outputs": [],
   "source": [
    "ARQUIVO.close()"
   ]
  }
 ],
 "metadata": {
  "colab": {
   "collapsed_sections": [],
   "name": "W M Pereira Junior_Aula 005 - Exemplo 001 - Leitura de arquivo.ipynb",
   "provenance": []
  },
  "kernelspec": {
   "display_name": "Python 3",
   "language": "python",
   "name": "python3"
  },
  "language_info": {
   "codemirror_mode": {
    "name": "ipython",
    "version": 3
   },
   "file_extension": ".py",
   "mimetype": "text/x-python",
   "name": "python",
   "nbconvert_exporter": "python",
   "pygments_lexer": "ipython3",
   "version": "3.8.3"
  }
 },
 "nbformat": 4,
 "nbformat_minor": 1
}
