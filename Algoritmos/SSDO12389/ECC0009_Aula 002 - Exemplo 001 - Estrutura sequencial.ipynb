{
 "cells": [
  {
   "cell_type": "markdown",
   "metadata": {
    "id": "CnY6GwEjS_JF"
   },
   "source": [
    "**Disciplina Métodos Computacionais**  \n",
    "*Professor Dr. Wanderlei Malaquias Pereira Junior*  \n",
    "Exemplo 001 - *Estrutura sequencial*"
   ]
  },
  {
   "cell_type": "markdown",
   "metadata": {
    "id": "jcuFwbKHTMKV"
   },
   "source": [
    "Declaração das notas"
   ]
  },
  {
   "cell_type": "code",
   "execution_count": null,
   "metadata": {
    "id": "ppbgo-QNS646"
   },
   "outputs": [],
   "source": [
    "N0 = 1.0; N1 = 3.0; N2 = 4.5; N3 = 10.0; N4 = 9.50\n",
    "N = 5"
   ]
  },
  {
   "cell_type": "markdown",
   "metadata": {
    "id": "WUO43Jq3eoG-"
   },
   "source": [
    "Cálculo da média"
   ]
  },
  {
   "cell_type": "code",
   "execution_count": null,
   "metadata": {
    "colab": {
     "base_uri": "https://localhost:8080/"
    },
    "id": "9s4k5OBgTifd",
    "outputId": "35b7ce66-43e9-42ba-df8a-b9f0f998db25"
   },
   "outputs": [],
   "source": [
    "MEDIA = (N0 + N1 + N2 + N3 + N4) /N\n",
    "MEDIA"
   ]
  },
  {
   "cell_type": "code",
   "execution_count": null,
   "metadata": {},
   "outputs": [],
   "source": [
    "print('Valor da média', MEDIA)"
   ]
  }
 ],
 "metadata": {
  "colab": {
   "name": "W M Pereira Junior_Exemplo 001 - Estrutura sequencial.ipynb",
   "provenance": []
  },
  "kernelspec": {
   "display_name": "Python 3",
   "language": "python",
   "name": "python3"
  },
  "language_info": {
   "codemirror_mode": {
    "name": "ipython",
    "version": 3
   },
   "file_extension": ".py",
   "mimetype": "text/x-python",
   "name": "python",
   "nbconvert_exporter": "python",
   "pygments_lexer": "ipython3",
   "version": "3.8.3"
  }
 },
 "nbformat": 4,
 "nbformat_minor": 1
}
