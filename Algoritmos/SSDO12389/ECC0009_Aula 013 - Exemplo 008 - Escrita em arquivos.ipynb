{
 "cells": [
  {
   "cell_type": "markdown",
   "metadata": {
    "id": "CnY6GwEjS_JF"
   },
   "source": [
    "**Disciplina Métodos Computacionais**  \n",
    "*Professor Dr. Wanderlei Malaquias Pereira Junior*  \n",
    "Exemplo 008 - *Escrita em arquivos*"
   ]
  },
  {
   "cell_type": "markdown",
   "metadata": {
    "id": "WUO43Jq3eoG-"
   },
   "source": [
    "Inserindo a lista de contatos no sistema:\n",
    "- Clique na pasta 📁. Menu do seu lado esquerdo no ambiente Google colab;\n",
    "- Arraste o arquivo extensão ```.txt``` para dentro do ambiente.\n"
   ]
  },
  {
   "cell_type": "code",
   "execution_count": null,
   "metadata": {
    "id": "9s4k5OBgTifd"
   },
   "outputs": [],
   "source": [
    "ARQUIVO = open('NOVO.txt', 'w')"
   ]
  },
  {
   "cell_type": "markdown",
   "metadata": {
    "id": "qqeCDpa4MdXP"
   },
   "source": [
    "Usando o método ```.write()``` para fazer algumas escritas.\n"
   ]
  },
  {
   "cell_type": "code",
   "execution_count": null,
   "metadata": {
    "id": "s8PoM2n2uQs2"
   },
   "outputs": [],
   "source": [
    "ARQUIVO.write('Aula de métodos computacionais do PPGEC \\n Pulei uma linha')\n",
    "ARQUIVO.write('Será que pula uma linha?')\n",
    "ARQUIVO.close()"
   ]
  },
  {
   "cell_type": "markdown",
   "metadata": {
    "id": "QvxuPIAhni8-"
   },
   "source": [
    "Agora vamos retomar este arquivo e escrever nele informações pulando algumas linhas."
   ]
  },
  {
   "cell_type": "raw",
   "metadata": {
    "id": "iGrzblY5n6pP"
   },
   "source": [
    "TEXTO = str(input());\n",
    "ARQUIVO = open('NOVO.txt', 'a')"
   ]
  },
  {
   "cell_type": "code",
   "execution_count": null,
   "metadata": {
    "id": "obK5KMWCoNiD"
   },
   "outputs": [],
   "source": [
    "ARQUIVO.write('\\n' + '\\n '+ TEXTO)\n",
    "ARQUIVO.close()"
   ]
  },
  {
   "cell_type": "markdown",
   "metadata": {
    "id": "ELzTBBy1p-7J"
   },
   "source": [
    "Vamos utilizar o método ```.format()``` para escrever um conjunto de dados padronizados em um arquivo de saída. \n",
    "\n",
    "Vamos escrever as coordenadas de um triângulo em uma saída."
   ]
  },
  {
   "cell_type": "code",
   "execution_count": null,
   "metadata": {
    "id": "wa4n0amtqjTP"
   },
   "outputs": [],
   "source": [
    "import numpy as np\n",
    "A = np.array([[-1, 1]])\n",
    "B = np.array([[4, 0]])\n",
    "C = np.array([[-3, 3]])\n",
    "TRIANGULO = np.vstack((A, B, C))\n",
    "print(TRIANGULO)"
   ]
  },
  {
   "cell_type": "code",
   "execution_count": null,
   "metadata": {
    "id": "okiHXByIr1b6"
   },
   "outputs": [],
   "source": [
    "COORD = open('COORDENADAS.txt', 'w')"
   ]
  },
  {
   "cell_type": "code",
   "execution_count": null,
   "metadata": {
    "id": "dg7vUBXrrgdE"
   },
   "outputs": [],
   "source": [
    "TAM = TRIANGULO.shape\n",
    "for I in range(TAM[0]):\n",
    "    for J in range(TAM[1]):\n",
    "        #COORD.write(str(TRIANGULO[I, J]))\n",
    "        COORD.write(str(TRIANGULO[I, J]) + ' ')\n",
    "    COORD.write('\\n')\n",
    "COORD.close()"
   ]
  }
 ],
 "metadata": {
  "colab": {
   "collapsed_sections": [],
   "name": "W M Pereira Junior_Aula 005 - Exemplo 002- Escrita em arquivos.ipynb",
   "provenance": []
  },
  "kernelspec": {
   "display_name": "Python 3",
   "language": "python",
   "name": "python3"
  },
  "language_info": {
   "codemirror_mode": {
    "name": "ipython",
    "version": 3
   },
   "file_extension": ".py",
   "mimetype": "text/x-python",
   "name": "python",
   "nbconvert_exporter": "python",
   "pygments_lexer": "ipython3",
   "version": "3.8.3"
  }
 },
 "nbformat": 4,
 "nbformat_minor": 1
}
