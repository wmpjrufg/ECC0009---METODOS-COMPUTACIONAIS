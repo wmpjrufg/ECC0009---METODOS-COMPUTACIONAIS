{
  "nbformat": 4,
  "nbformat_minor": 0,
  "metadata": {
    "colab": {
      "name": "W M Pereira Junior_Aula 003 - Exemplo 002 - Estrutura homogênea.ipynb",
      "provenance": [],
      "collapsed_sections": []
    },
    "kernelspec": {
      "name": "python3",
      "display_name": "Python 3"
    },
    "language_info": {
      "name": "python"
    }
  },
  "cells": [
    {
      "cell_type": "markdown",
      "metadata": {
        "id": "CnY6GwEjS_JF"
      },
      "source": [
        "**Disciplina Métodos Computacionais**  \n",
        "*Professor Dr. Wanderlei Malaquias Pereira Junior*  \n",
        "Exemplo 002 - *Estrutura homogênea*"
      ]
    },
    {
      "cell_type": "markdown",
      "metadata": {
        "id": "WUO43Jq3eoG-"
      },
      "source": [
        "Construindo a matriz de num. inteiros"
      ]
    },
    {
      "cell_type": "code",
      "metadata": {
        "id": "9s4k5OBgTifd"
      },
      "source": [
        "import numpy as np\n",
        "MATRIZ_1 = np.array([[1], [5], [8], [9], [10], [15], [25], [150]])\n",
        "TAM_1 = MATRIZ_1.shape\n",
        "print(type(MATRIZ_1), 'DIMENSÕES: ', 'Nº lin.: ', TAM_1[0], 'Nº col.: ', TAM_1[1])   \n",
        "MATRIZ_2 = np.array([[1, 5, 8, 9, 10, 15, 25, 150]])\n",
        "TAM_2 = MATRIZ_2.shape\n",
        "print(type(MATRIZ_2), 'DIMENSÕES: ', 'Nº lin.: ', TAM_2[0], 'Nº col.: ', TAM_2[1])   "
      ],
      "execution_count": null,
      "outputs": []
    },
    {
      "cell_type": "markdown",
      "metadata": {
        "id": "eNw1ZVITY-TN"
      },
      "source": [
        "Identificação PAR e ÍMPAR\n",
        "\n",
        "Para identificar se um valor é par ou ímpar deve-se avaliar o resto da divisão do número pelo número 2 (2 $\\in \\mathbb{R}$):\n",
        "\n",
        "Exemplo:\n",
        "\n",
        "- $50 / 2$ possui resto 0;\n",
        "- $17 / 2$ possui resto 1.\n",
        "\n",
        "Vamos fazer o exemplo para a matriz **linha**"
      ]
    },
    {
      "cell_type": "code",
      "metadata": {
        "id": "2dKHoAqrY9lO"
      },
      "source": [
        "PAR = []\n",
        "IMPAR = []\n",
        "for I in range(TAM_2[1]):\n",
        "    NUMERO = MATRIZ_2[0, I]\n",
        "    RESTO = NUMERO % 2\n",
        "    if RESTO == 0:\n",
        "        TIPO = 'Par'\n",
        "        PAR.append(NUMERO)\n",
        "    else:\n",
        "        TIPO = 'Ímpar'\n",
        "        IMPAR.append(NUMERO)\n",
        "    #print('Número: %d e Classificação: %s' % (NUMERO, TIPO))       # Numeração inteira tradicional\n",
        "    #print('Número: %-5d e Classificação: %s' % (NUMERO, TIPO))     # Numeração inteira alinhada a esquerda\n",
        "    print('Número: %+5d e Classificação: %s' % (NUMERO, TIPO))     # Numeração inteira alinhada a direita\n",
        "    #print('Número: %6.2f e Classificação: %s' % (NUMERO, TIPO))    # Numeração de ponto flutuante com 6 campos alinhada a direita\n",
        "    #print('Número: %6.2e e Classificação: %s' % (NUMERO, TIPO))    # Numeração de engenharia com 6 campos alinhada a direita\n",
        "    #print('Número: %g e Classificação: %s' % (NUMERO, TIPO))       # Numeração que %e com expoentes menores que −4 ou maiores que +5, caso contrário usa %f"
      ],
      "execution_count": null,
      "outputs": []
    },
    {
      "cell_type": "markdown",
      "metadata": {
        "id": "15eKc1SNkWUd"
      },
      "source": [
        "Imprimindo os vetores finais"
      ]
    },
    {
      "cell_type": "code",
      "metadata": {
        "id": "VlHpU-QFkKCK"
      },
      "source": [
        "print('PAR: ', PAR, '\\n', 'IMPAR: ', IMPAR)"
      ],
      "execution_count": null,
      "outputs": []
    }
  ]
}