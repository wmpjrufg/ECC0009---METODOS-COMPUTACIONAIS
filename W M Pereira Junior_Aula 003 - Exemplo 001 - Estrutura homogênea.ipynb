{
  "nbformat": 4,
  "nbformat_minor": 0,
  "metadata": {
    "colab": {
      "name": "W M Pereira Junior_Aula 003 - Exemplo 001 - Estrutura homogênea.ipynb",
      "provenance": [],
      "collapsed_sections": []
    },
    "kernelspec": {
      "name": "python3",
      "display_name": "Python 3"
    },
    "language_info": {
      "name": "python"
    }
  },
  "cells": [
    {
      "cell_type": "markdown",
      "metadata": {
        "id": "CnY6GwEjS_JF"
      },
      "source": [
        "**Disciplina Métodos Computacionais**  \n",
        "*Professor Dr. Wanderlei Malaquias Pereira Junior*  \n",
        "Exemplo 001 - *Estrutura homogênea*"
      ]
    },
    {
      "cell_type": "markdown",
      "metadata": {
        "id": "WUO43Jq3eoG-"
      },
      "source": [
        "Construindo o vetor de num. inteiros"
      ]
    },
    {
      "cell_type": "code",
      "metadata": {
        "id": "9s4k5OBgTifd"
      },
      "source": [
        "VETOR = [1, 5, 8, 9, 10, 15, 25, 150]\n",
        "TAM = len(VETOR)\n",
        "print(type(VETOR), 'DIMENSÃO: ', TAM)   "
      ],
      "execution_count": null,
      "outputs": []
    },
    {
      "cell_type": "markdown",
      "metadata": {
        "id": "eNw1ZVITY-TN"
      },
      "source": [
        "Identificação PAR e ÍMPAR\n",
        "\n",
        "Para identificar se um valor é par ou ímpar deve-se avaliar o resto da divisão do número pelo número 2 (2 $\\in \\mathbb{R}$):\n",
        "\n",
        "Exemplo:\n",
        "\n",
        "- $50 / 2$ possui resto 0;\n",
        "- $17 / 2$ possui resto 1."
      ]
    },
    {
      "cell_type": "code",
      "metadata": {
        "id": "2dKHoAqrY9lO"
      },
      "source": [
        "PAR = []\n",
        "IMPAR = []\n",
        "for I in range(TAM):\n",
        "    NUMERO = VETOR[I]\n",
        "    RESTO = NUMERO % 2\n",
        "    if RESTO == 0:\n",
        "        TIPO = 'Par'\n",
        "        PAR.append(NUMERO)\n",
        "    else:\n",
        "        TIPO = 'Ímpar'\n",
        "        IMPAR.append(NUMERO)\n",
        "    #print('Número: %d e Classificação: %s' % (NUMERO, TIPO))       # Numeração inteira tradicional\n",
        "    #print('Número: %-5d e Classificação: %s' % (NUMERO, TIPO))     # Numeração inteira alinhada a esquerda\n",
        "    print('Número: %+5d e Classificação: %s' % (NUMERO, TIPO))     # Numeração inteira alinhada a direita\n",
        "    #print('Número: %6.2f e Classificação: %s' % (NUMERO, TIPO))    # Numeração de ponto flutuante com 6 campos alinhada a direita\n",
        "    #print('Número: %6.2e e Classificação: %s' % (NUMERO, TIPO))    # Numeração de engenharia com 6 campos alinhada a direita\n",
        "    #print('Número: %g e Classificação: %s' % (NUMERO, TIPO))       # Numeração que %e com expoentes menores que −4 ou maiores que +5, caso contrário usa %f"
      ],
      "execution_count": null,
      "outputs": []
    },
    {
      "cell_type": "markdown",
      "metadata": {
        "id": "15eKc1SNkWUd"
      },
      "source": [
        "Imprimindo os vetores finais"
      ]
    },
    {
      "cell_type": "code",
      "metadata": {
        "id": "VlHpU-QFkKCK"
      },
      "source": [
        "print('PAR: ', PAR, '\\n', 'IMPAR: ', IMPAR)"
      ],
      "execution_count": null,
      "outputs": []
    }
  ]
}